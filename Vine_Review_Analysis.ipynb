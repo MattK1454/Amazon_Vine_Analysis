{
 "cells": [
  {
   "cell_type": "code",
   "execution_count": 1,
   "metadata": {},
   "outputs": [],
   "source": [
    "# import libraries\n",
    "import pandas as pd"
   ]
  },
  {
   "cell_type": "code",
   "execution_count": 2,
   "metadata": {},
   "outputs": [],
   "source": [
    "# Read in vine_table as dataframe\n",
    "vine_df = pd.read_csv(\"./Resources/vine_table.csv\")\n",
    "# vine_df.head()"
   ]
  },
  {
   "cell_type": "code",
   "execution_count": 3,
   "metadata": {},
   "outputs": [],
   "source": [
    "# Filter data and create a new DataFrame for all rows where the total_votes is >= 20\n",
    "filtered_df = vine_df[vine_df['total_votes'] >= 20]\n",
    "# filtered_df.head()"
   ]
  },
  {
   "cell_type": "code",
   "execution_count": 4,
   "metadata": {},
   "outputs": [
    {
     "data": {
      "text/html": [
       "<div>\n",
       "<style scoped>\n",
       "    .dataframe tbody tr th:only-of-type {\n",
       "        vertical-align: middle;\n",
       "    }\n",
       "\n",
       "    .dataframe tbody tr th {\n",
       "        vertical-align: top;\n",
       "    }\n",
       "\n",
       "    .dataframe thead th {\n",
       "        text-align: right;\n",
       "    }\n",
       "</style>\n",
       "<table border=\"1\" class=\"dataframe\">\n",
       "  <thead>\n",
       "    <tr style=\"text-align: right;\">\n",
       "      <th></th>\n",
       "      <th>review_id</th>\n",
       "      <th>star_rating</th>\n",
       "      <th>helpful_votes</th>\n",
       "      <th>total_votes</th>\n",
       "      <th>vine</th>\n",
       "      <th>verified_purchase</th>\n",
       "    </tr>\n",
       "  </thead>\n",
       "  <tbody>\n",
       "    <tr>\n",
       "      <th>591</th>\n",
       "      <td>ROI00QN8IS49I</td>\n",
       "      <td>5</td>\n",
       "      <td>83</td>\n",
       "      <td>91</td>\n",
       "      <td>N</td>\n",
       "      <td>N</td>\n",
       "    </tr>\n",
       "    <tr>\n",
       "      <th>1122</th>\n",
       "      <td>R13C5INE1RTZP6</td>\n",
       "      <td>2</td>\n",
       "      <td>26</td>\n",
       "      <td>26</td>\n",
       "      <td>N</td>\n",
       "      <td>Y</td>\n",
       "    </tr>\n",
       "    <tr>\n",
       "      <th>1311</th>\n",
       "      <td>RXVMMXCL67MZN</td>\n",
       "      <td>4</td>\n",
       "      <td>378</td>\n",
       "      <td>383</td>\n",
       "      <td>N</td>\n",
       "      <td>Y</td>\n",
       "    </tr>\n",
       "    <tr>\n",
       "      <th>1837</th>\n",
       "      <td>R33JJQWAUYBKD3</td>\n",
       "      <td>5</td>\n",
       "      <td>270</td>\n",
       "      <td>280</td>\n",
       "      <td>N</td>\n",
       "      <td>Y</td>\n",
       "    </tr>\n",
       "    <tr>\n",
       "      <th>1954</th>\n",
       "      <td>R3N0XV9267NOXV</td>\n",
       "      <td>5</td>\n",
       "      <td>41</td>\n",
       "      <td>47</td>\n",
       "      <td>Y</td>\n",
       "      <td>N</td>\n",
       "    </tr>\n",
       "  </tbody>\n",
       "</table>\n",
       "</div>"
      ],
      "text/plain": [
       "           review_id  star_rating  helpful_votes  total_votes vine  \\\n",
       "591    ROI00QN8IS49I            5             83           91    N   \n",
       "1122  R13C5INE1RTZP6            2             26           26    N   \n",
       "1311   RXVMMXCL67MZN            4            378          383    N   \n",
       "1837  R33JJQWAUYBKD3            5            270          280    N   \n",
       "1954  R3N0XV9267NOXV            5             41           47    Y   \n",
       "\n",
       "     verified_purchase  \n",
       "591                  N  \n",
       "1122                 Y  \n",
       "1311                 Y  \n",
       "1837                 Y  \n",
       "1954                 N  "
      ]
     },
     "execution_count": 4,
     "metadata": {},
     "output_type": "execute_result"
    }
   ],
   "source": [
    "# Filter filtered_df to retrieve all the rows where the number of helpful_votes / total_votes >= 50%\n",
    "# Check data type for helpful_votes and total_votes\n",
    "# filtered_df['helpful_votes'].dtypes\n",
    "# filtered_df['total_votes'].dtypes\n",
    "\n",
    "# Filter dataframe\n",
    "filtered2_df = filtered_df[(filtered_df['helpful_votes']/filtered_df['total_votes']) >= 0.5]\n",
    "filtered2_df.head()"
   ]
  },
  {
   "cell_type": "code",
   "execution_count": 5,
   "metadata": {},
   "outputs": [
    {
     "data": {
      "text/html": [
       "<div>\n",
       "<style scoped>\n",
       "    .dataframe tbody tr th:only-of-type {\n",
       "        vertical-align: middle;\n",
       "    }\n",
       "\n",
       "    .dataframe tbody tr th {\n",
       "        vertical-align: top;\n",
       "    }\n",
       "\n",
       "    .dataframe thead th {\n",
       "        text-align: right;\n",
       "    }\n",
       "</style>\n",
       "<table border=\"1\" class=\"dataframe\">\n",
       "  <thead>\n",
       "    <tr style=\"text-align: right;\">\n",
       "      <th></th>\n",
       "      <th>review_id</th>\n",
       "      <th>star_rating</th>\n",
       "      <th>helpful_votes</th>\n",
       "      <th>total_votes</th>\n",
       "      <th>vine</th>\n",
       "      <th>verified_purchase</th>\n",
       "    </tr>\n",
       "  </thead>\n",
       "  <tbody>\n",
       "    <tr>\n",
       "      <th>1954</th>\n",
       "      <td>R3N0XV9267NOXV</td>\n",
       "      <td>5</td>\n",
       "      <td>41</td>\n",
       "      <td>47</td>\n",
       "      <td>Y</td>\n",
       "      <td>N</td>\n",
       "    </tr>\n",
       "    <tr>\n",
       "      <th>5736</th>\n",
       "      <td>RSA6JQ346JZHZ</td>\n",
       "      <td>5</td>\n",
       "      <td>55</td>\n",
       "      <td>64</td>\n",
       "      <td>Y</td>\n",
       "      <td>Y</td>\n",
       "    </tr>\n",
       "    <tr>\n",
       "      <th>7385</th>\n",
       "      <td>R1FXF4HRMCLG4C</td>\n",
       "      <td>5</td>\n",
       "      <td>69</td>\n",
       "      <td>84</td>\n",
       "      <td>Y</td>\n",
       "      <td>N</td>\n",
       "    </tr>\n",
       "    <tr>\n",
       "      <th>7883</th>\n",
       "      <td>RCTBWC3II42MG</td>\n",
       "      <td>4</td>\n",
       "      <td>113</td>\n",
       "      <td>117</td>\n",
       "      <td>Y</td>\n",
       "      <td>N</td>\n",
       "    </tr>\n",
       "    <tr>\n",
       "      <th>24464</th>\n",
       "      <td>RTMQM2CQ1XIZ0</td>\n",
       "      <td>5</td>\n",
       "      <td>21</td>\n",
       "      <td>25</td>\n",
       "      <td>Y</td>\n",
       "      <td>N</td>\n",
       "    </tr>\n",
       "  </tbody>\n",
       "</table>\n",
       "</div>"
      ],
      "text/plain": [
       "            review_id  star_rating  helpful_votes  total_votes vine  \\\n",
       "1954   R3N0XV9267NOXV            5             41           47    Y   \n",
       "5736    RSA6JQ346JZHZ            5             55           64    Y   \n",
       "7385   R1FXF4HRMCLG4C            5             69           84    Y   \n",
       "7883    RCTBWC3II42MG            4            113          117    Y   \n",
       "24464   RTMQM2CQ1XIZ0            5             21           25    Y   \n",
       "\n",
       "      verified_purchase  \n",
       "1954                  N  \n",
       "5736                  Y  \n",
       "7385                  N  \n",
       "7883                  N  \n",
       "24464                 N  "
      ]
     },
     "execution_count": 5,
     "metadata": {},
     "output_type": "execute_result"
    }
   ],
   "source": [
    "# Filter filtered2_df to retrieve all the rows where a review was written as part of the Vine program (vine == 'Y')\n",
    "vine_member_review_df = filtered2_df[filtered2_df['vine'] == 'Y']\n",
    "vine_member_review_df.head()"
   ]
  },
  {
   "cell_type": "code",
   "execution_count": 6,
   "metadata": {},
   "outputs": [],
   "source": [
    "# Filter filtered2_df to retrieve all the rows where a review was not part of the Vine program (vine == 'N')\n",
    "nonvine_member_review_df = filtered2_df[filtered2_df['vine'] == 'N']\n",
    "# nonvine_member_review_df.head()"
   ]
  },
  {
   "cell_type": "code",
   "execution_count": 7,
   "metadata": {},
   "outputs": [
    {
     "data": {
      "text/plain": [
       "25557"
      ]
     },
     "execution_count": 7,
     "metadata": {},
     "output_type": "execute_result"
    }
   ],
   "source": [
    "# Determine the total number of reviews\n",
    "total_reviews = filtered2_df['star_rating'].count()\n",
    "total_reviews"
   ]
  },
  {
   "cell_type": "code",
   "execution_count": 8,
   "metadata": {},
   "outputs": [
    {
     "data": {
      "text/plain": [
       "12235"
      ]
     },
     "execution_count": 8,
     "metadata": {},
     "output_type": "execute_result"
    }
   ],
   "source": [
    "# Determine the number of 5-star reviews\n",
    "five_star_reviews = filtered2_df[filtered2_df['star_rating'] == 5.0].star_rating.count()\n",
    "five_star_reviews"
   ]
  },
  {
   "cell_type": "code",
   "execution_count": 9,
   "metadata": {},
   "outputs": [
    {
     "name": "stdout",
     "output_type": "stream",
     "text": [
      "202\n"
     ]
    },
    {
     "data": {
      "text/plain": [
       "1.6510012259910094"
      ]
     },
     "execution_count": 9,
     "metadata": {},
     "output_type": "execute_result"
    }
   ],
   "source": [
    "# Determine the percentage of 5-star reviews for vine members\n",
    "# Determine number of vine members who wrote 5-star reviews\n",
    "five_star_members = vine_member_review_df[vine_member_review_df['star_rating'] == 5.0].star_rating.count()\n",
    "print(five_star_members)\n",
    "\n",
    "# Calculate percentage\n",
    "member_percentage =  (five_star_members / five_star_reviews) * 100\n",
    "member_percentage"
   ]
  },
  {
   "cell_type": "code",
   "execution_count": 10,
   "metadata": {},
   "outputs": [
    {
     "name": "stdout",
     "output_type": "stream",
     "text": [
      "12033\n"
     ]
    },
    {
     "data": {
      "text/plain": [
       "98.34899877400899"
      ]
     },
     "execution_count": 10,
     "metadata": {},
     "output_type": "execute_result"
    }
   ],
   "source": [
    "# Determine the percentage of 5-star reviews for non-members\n",
    "# Determine the number of non-vine members who wrote 5-star reviews\n",
    "five_star_nonmembers = nonvine_member_review_df[nonvine_member_review_df['star_rating'] == 5.0].star_rating.count()\n",
    "print(five_star_nonmembers)\n",
    "\n",
    "# Calculate percentage\n",
    "nonmember_percentage = (five_star_nonmembers / five_star_reviews) * 100\n",
    "nonmember_percentage"
   ]
  }
 ],
 "metadata": {
  "kernelspec": {
   "display_name": "PythonData",
   "language": "python",
   "name": "pythondata"
  },
  "language_info": {
   "codemirror_mode": {
    "name": "ipython",
    "version": 3
   },
   "file_extension": ".py",
   "mimetype": "text/x-python",
   "name": "python",
   "nbconvert_exporter": "python",
   "pygments_lexer": "ipython3",
   "version": "3.7.7"
  }
 },
 "nbformat": 4,
 "nbformat_minor": 4
}
